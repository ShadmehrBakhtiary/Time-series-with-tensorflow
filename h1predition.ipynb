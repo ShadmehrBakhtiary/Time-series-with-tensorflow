{
  "nbformat": 4,
  "nbformat_minor": 0,
  "metadata": {
    "colab": {
      "provenance": [],
      "gpuType": "T4"
    },
    "kernelspec": {
      "name": "python3",
      "display_name": "Python 3"
    },
    "language_info": {
      "name": "python"
    },
    "accelerator": "GPU"
  },
  "cells": [
    {
      "cell_type": "code",
      "execution_count": 9,
      "metadata": {
        "colab": {
          "base_uri": "https://localhost:8080/"
        },
        "id": "WiFLTGrQ19Y5",
        "outputId": "e8c1a977-0d17-446f-a72a-472e75345dc9"
      },
      "outputs": [
        {
          "output_type": "stream",
          "name": "stdout",
          "text": [
            "Mounted at /content/drive\n"
          ]
        }
      ],
      "source": [
        "from google.colab import drive\n",
        "drive.mount('/content/drive')"
      ]
    },
    {
      "cell_type": "markdown",
      "source": [
        "# **Importing Libraries for our model**"
      ],
      "metadata": {
        "id": "m8Adn3bN2xNk"
      }
    },
    {
      "cell_type": "code",
      "source": [
        "import pandas as pd\n",
        "import pylab as pl\n",
        "import numpy as np\n",
        "import string\n",
        "import matplotlib as plot\n",
        "from sklearn.manifold import TSNE\n",
        "import seaborn as sns\n",
        "import tensorflow as tf\n",
        "import matplotlib.pyplot as plt\n",
        "import warnings\n",
        "warnings.filterwarnings('ignore')\n",
        "\n",
        "plt.rcParams['figure.figsize'] = (10, 7.5)\n",
        "plt.rcParams['axes.grid'] = False"
      ],
      "metadata": {
        "id": "cyC2kOcU2cjj"
      },
      "execution_count": 10,
      "outputs": []
    },
    {
      "cell_type": "code",
      "source": [
        "from tensorflow.keras import Model, Sequential\n",
        "from tensorflow.keras.optimizers import Adam\n",
        "from tensorflow.keras.callbacks import EarlyStopping\n",
        "from tensorflow.keras.losses import MeanSquaredError\n",
        "from tensorflow.keras.metrics import MeanAbsoluteError\n",
        "\n",
        "from tensorflow.keras.layers import Dense, Conv1D, LSTM, Lambda, Reshape, RNN, LSTMCell"
      ],
      "metadata": {
        "id": "iRGYyKhFqT7-"
      },
      "execution_count": 11,
      "outputs": []
    },
    {
      "cell_type": "code",
      "source": [
        "print(tf.__version__)"
      ],
      "metadata": {
        "colab": {
          "base_uri": "https://localhost:8080/"
        },
        "id": "oLEtanySrX_f",
        "outputId": "959bd295-3f5a-4c9b-e015-01b04ee7270e"
      },
      "execution_count": 12,
      "outputs": [
        {
          "output_type": "stream",
          "name": "stdout",
          "text": [
            "2.15.0\n"
          ]
        }
      ]
    },
    {
      "cell_type": "code",
      "source": [
        "df = pd.read_csv(r\"/content/drive/MyDrive/ML_FOLDER/ai-project/stock price prediction/csv/EURUSD_o_Daily_2023-02-0_2024-04-10.csv\", sep='\\t')\n",
        "\n",
        "df.shape"
      ],
      "metadata": {
        "colab": {
          "base_uri": "https://localhost:8080/"
        },
        "id": "vWdouXLjphHg",
        "outputId": "03d889db-eb99-4b9b-ccb7-f8cd3c4c464b"
      },
      "execution_count": 13,
      "outputs": [
        {
          "output_type": "execute_result",
          "data": {
            "text/plain": [
              "(315, 8)"
            ]
          },
          "metadata": {},
          "execution_count": 13
        }
      ]
    },
    {
      "cell_type": "code",
      "source": [
        "df.columns = ['DATE', 'OPEN', 'HIGH', 'LOW', 'CLOSE', 'TICKVOL', 'VOL', 'SPREAD']"
      ],
      "metadata": {
        "id": "Sc2h8tEvuk2j"
      },
      "execution_count": 14,
      "outputs": []
    },
    {
      "cell_type": "code",
      "source": [
        "df.head()\n",
        "df.info()"
      ],
      "metadata": {
        "colab": {
          "base_uri": "https://localhost:8080/"
        },
        "id": "rJmN4DmCuvTw",
        "outputId": "d25ef029-b2ed-4d50-d78c-a64f28ca4ff7"
      },
      "execution_count": 15,
      "outputs": [
        {
          "output_type": "stream",
          "name": "stdout",
          "text": [
            "<class 'pandas.core.frame.DataFrame'>\n",
            "RangeIndex: 315 entries, 0 to 314\n",
            "Data columns (total 8 columns):\n",
            " #   Column   Non-Null Count  Dtype  \n",
            "---  ------   --------------  -----  \n",
            " 0   DATE     315 non-null    object \n",
            " 1   OPEN     315 non-null    float64\n",
            " 2   HIGH     315 non-null    float64\n",
            " 3   LOW      315 non-null    float64\n",
            " 4   CLOSE    315 non-null    float64\n",
            " 5   TICKVOL  315 non-null    int64  \n",
            " 6   VOL      315 non-null    int64  \n",
            " 7   SPREAD   315 non-null    int64  \n",
            "dtypes: float64(4), int64(3), object(1)\n",
            "memory usage: 19.8+ KB\n"
          ]
        }
      ]
    },
    {
      "cell_type": "code",
      "source": [
        "df.head()"
      ],
      "metadata": {
        "colab": {
          "base_uri": "https://localhost:8080/",
          "height": 206
        },
        "id": "fkuVLjjE3E4Q",
        "outputId": "48f38fcf-61d0-4b8f-9dec-06d31785ce8f"
      },
      "execution_count": 16,
      "outputs": [
        {
          "output_type": "execute_result",
          "data": {
            "text/plain": [
              "         DATE     OPEN     HIGH      LOW    CLOSE  TICKVOL  VOL  SPREAD\n",
              "0  2023.02.01  1.08610  1.10010  1.08522  1.09890    97681    0       0\n",
              "1  2023.02.02  1.09893  1.10330  1.08854  1.09097   117680    0       0\n",
              "2  2023.02.03  1.09097  1.09402  1.07924  1.07943   106371    0       0\n",
              "3  2023.02.06  1.07809  1.07990  1.07096  1.07252    92317    0       0\n",
              "4  2023.02.07  1.07263  1.07666  1.06692  1.07238   112750    0       0"
            ],
            "text/html": [
              "\n",
              "  <div id=\"df-ccf3b90d-503f-49d2-9b48-ff1f9ba45fdb\" class=\"colab-df-container\">\n",
              "    <div>\n",
              "<style scoped>\n",
              "    .dataframe tbody tr th:only-of-type {\n",
              "        vertical-align: middle;\n",
              "    }\n",
              "\n",
              "    .dataframe tbody tr th {\n",
              "        vertical-align: top;\n",
              "    }\n",
              "\n",
              "    .dataframe thead th {\n",
              "        text-align: right;\n",
              "    }\n",
              "</style>\n",
              "<table border=\"1\" class=\"dataframe\">\n",
              "  <thead>\n",
              "    <tr style=\"text-align: right;\">\n",
              "      <th></th>\n",
              "      <th>DATE</th>\n",
              "      <th>OPEN</th>\n",
              "      <th>HIGH</th>\n",
              "      <th>LOW</th>\n",
              "      <th>CLOSE</th>\n",
              "      <th>TICKVOL</th>\n",
              "      <th>VOL</th>\n",
              "      <th>SPREAD</th>\n",
              "    </tr>\n",
              "  </thead>\n",
              "  <tbody>\n",
              "    <tr>\n",
              "      <th>0</th>\n",
              "      <td>2023.02.01</td>\n",
              "      <td>1.08610</td>\n",
              "      <td>1.10010</td>\n",
              "      <td>1.08522</td>\n",
              "      <td>1.09890</td>\n",
              "      <td>97681</td>\n",
              "      <td>0</td>\n",
              "      <td>0</td>\n",
              "    </tr>\n",
              "    <tr>\n",
              "      <th>1</th>\n",
              "      <td>2023.02.02</td>\n",
              "      <td>1.09893</td>\n",
              "      <td>1.10330</td>\n",
              "      <td>1.08854</td>\n",
              "      <td>1.09097</td>\n",
              "      <td>117680</td>\n",
              "      <td>0</td>\n",
              "      <td>0</td>\n",
              "    </tr>\n",
              "    <tr>\n",
              "      <th>2</th>\n",
              "      <td>2023.02.03</td>\n",
              "      <td>1.09097</td>\n",
              "      <td>1.09402</td>\n",
              "      <td>1.07924</td>\n",
              "      <td>1.07943</td>\n",
              "      <td>106371</td>\n",
              "      <td>0</td>\n",
              "      <td>0</td>\n",
              "    </tr>\n",
              "    <tr>\n",
              "      <th>3</th>\n",
              "      <td>2023.02.06</td>\n",
              "      <td>1.07809</td>\n",
              "      <td>1.07990</td>\n",
              "      <td>1.07096</td>\n",
              "      <td>1.07252</td>\n",
              "      <td>92317</td>\n",
              "      <td>0</td>\n",
              "      <td>0</td>\n",
              "    </tr>\n",
              "    <tr>\n",
              "      <th>4</th>\n",
              "      <td>2023.02.07</td>\n",
              "      <td>1.07263</td>\n",
              "      <td>1.07666</td>\n",
              "      <td>1.06692</td>\n",
              "      <td>1.07238</td>\n",
              "      <td>112750</td>\n",
              "      <td>0</td>\n",
              "      <td>0</td>\n",
              "    </tr>\n",
              "  </tbody>\n",
              "</table>\n",
              "</div>\n",
              "    <div class=\"colab-df-buttons\">\n",
              "\n",
              "  <div class=\"colab-df-container\">\n",
              "    <button class=\"colab-df-convert\" onclick=\"convertToInteractive('df-ccf3b90d-503f-49d2-9b48-ff1f9ba45fdb')\"\n",
              "            title=\"Convert this dataframe to an interactive table.\"\n",
              "            style=\"display:none;\">\n",
              "\n",
              "  <svg xmlns=\"http://www.w3.org/2000/svg\" height=\"24px\" viewBox=\"0 -960 960 960\">\n",
              "    <path d=\"M120-120v-720h720v720H120Zm60-500h600v-160H180v160Zm220 220h160v-160H400v160Zm0 220h160v-160H400v160ZM180-400h160v-160H180v160Zm440 0h160v-160H620v160ZM180-180h160v-160H180v160Zm440 0h160v-160H620v160Z\"/>\n",
              "  </svg>\n",
              "    </button>\n",
              "\n",
              "  <style>\n",
              "    .colab-df-container {\n",
              "      display:flex;\n",
              "      gap: 12px;\n",
              "    }\n",
              "\n",
              "    .colab-df-convert {\n",
              "      background-color: #E8F0FE;\n",
              "      border: none;\n",
              "      border-radius: 50%;\n",
              "      cursor: pointer;\n",
              "      display: none;\n",
              "      fill: #1967D2;\n",
              "      height: 32px;\n",
              "      padding: 0 0 0 0;\n",
              "      width: 32px;\n",
              "    }\n",
              "\n",
              "    .colab-df-convert:hover {\n",
              "      background-color: #E2EBFA;\n",
              "      box-shadow: 0px 1px 2px rgba(60, 64, 67, 0.3), 0px 1px 3px 1px rgba(60, 64, 67, 0.15);\n",
              "      fill: #174EA6;\n",
              "    }\n",
              "\n",
              "    .colab-df-buttons div {\n",
              "      margin-bottom: 4px;\n",
              "    }\n",
              "\n",
              "    [theme=dark] .colab-df-convert {\n",
              "      background-color: #3B4455;\n",
              "      fill: #D2E3FC;\n",
              "    }\n",
              "\n",
              "    [theme=dark] .colab-df-convert:hover {\n",
              "      background-color: #434B5C;\n",
              "      box-shadow: 0px 1px 3px 1px rgba(0, 0, 0, 0.15);\n",
              "      filter: drop-shadow(0px 1px 2px rgba(0, 0, 0, 0.3));\n",
              "      fill: #FFFFFF;\n",
              "    }\n",
              "  </style>\n",
              "\n",
              "    <script>\n",
              "      const buttonEl =\n",
              "        document.querySelector('#df-ccf3b90d-503f-49d2-9b48-ff1f9ba45fdb button.colab-df-convert');\n",
              "      buttonEl.style.display =\n",
              "        google.colab.kernel.accessAllowed ? 'block' : 'none';\n",
              "\n",
              "      async function convertToInteractive(key) {\n",
              "        const element = document.querySelector('#df-ccf3b90d-503f-49d2-9b48-ff1f9ba45fdb');\n",
              "        const dataTable =\n",
              "          await google.colab.kernel.invokeFunction('convertToInteractive',\n",
              "                                                    [key], {});\n",
              "        if (!dataTable) return;\n",
              "\n",
              "        const docLinkHtml = 'Like what you see? Visit the ' +\n",
              "          '<a target=\"_blank\" href=https://colab.research.google.com/notebooks/data_table.ipynb>data table notebook</a>'\n",
              "          + ' to learn more about interactive tables.';\n",
              "        element.innerHTML = '';\n",
              "        dataTable['output_type'] = 'display_data';\n",
              "        await google.colab.output.renderOutput(dataTable, element);\n",
              "        const docLink = document.createElement('div');\n",
              "        docLink.innerHTML = docLinkHtml;\n",
              "        element.appendChild(docLink);\n",
              "      }\n",
              "    </script>\n",
              "  </div>\n",
              "\n",
              "\n",
              "<div id=\"df-84cad7d2-ed8e-451f-b324-bc6dea824b46\">\n",
              "  <button class=\"colab-df-quickchart\" onclick=\"quickchart('df-84cad7d2-ed8e-451f-b324-bc6dea824b46')\"\n",
              "            title=\"Suggest charts\"\n",
              "            style=\"display:none;\">\n",
              "\n",
              "<svg xmlns=\"http://www.w3.org/2000/svg\" height=\"24px\"viewBox=\"0 0 24 24\"\n",
              "     width=\"24px\">\n",
              "    <g>\n",
              "        <path d=\"M19 3H5c-1.1 0-2 .9-2 2v14c0 1.1.9 2 2 2h14c1.1 0 2-.9 2-2V5c0-1.1-.9-2-2-2zM9 17H7v-7h2v7zm4 0h-2V7h2v10zm4 0h-2v-4h2v4z\"/>\n",
              "    </g>\n",
              "</svg>\n",
              "  </button>\n",
              "\n",
              "<style>\n",
              "  .colab-df-quickchart {\n",
              "      --bg-color: #E8F0FE;\n",
              "      --fill-color: #1967D2;\n",
              "      --hover-bg-color: #E2EBFA;\n",
              "      --hover-fill-color: #174EA6;\n",
              "      --disabled-fill-color: #AAA;\n",
              "      --disabled-bg-color: #DDD;\n",
              "  }\n",
              "\n",
              "  [theme=dark] .colab-df-quickchart {\n",
              "      --bg-color: #3B4455;\n",
              "      --fill-color: #D2E3FC;\n",
              "      --hover-bg-color: #434B5C;\n",
              "      --hover-fill-color: #FFFFFF;\n",
              "      --disabled-bg-color: #3B4455;\n",
              "      --disabled-fill-color: #666;\n",
              "  }\n",
              "\n",
              "  .colab-df-quickchart {\n",
              "    background-color: var(--bg-color);\n",
              "    border: none;\n",
              "    border-radius: 50%;\n",
              "    cursor: pointer;\n",
              "    display: none;\n",
              "    fill: var(--fill-color);\n",
              "    height: 32px;\n",
              "    padding: 0;\n",
              "    width: 32px;\n",
              "  }\n",
              "\n",
              "  .colab-df-quickchart:hover {\n",
              "    background-color: var(--hover-bg-color);\n",
              "    box-shadow: 0 1px 2px rgba(60, 64, 67, 0.3), 0 1px 3px 1px rgba(60, 64, 67, 0.15);\n",
              "    fill: var(--button-hover-fill-color);\n",
              "  }\n",
              "\n",
              "  .colab-df-quickchart-complete:disabled,\n",
              "  .colab-df-quickchart-complete:disabled:hover {\n",
              "    background-color: var(--disabled-bg-color);\n",
              "    fill: var(--disabled-fill-color);\n",
              "    box-shadow: none;\n",
              "  }\n",
              "\n",
              "  .colab-df-spinner {\n",
              "    border: 2px solid var(--fill-color);\n",
              "    border-color: transparent;\n",
              "    border-bottom-color: var(--fill-color);\n",
              "    animation:\n",
              "      spin 1s steps(1) infinite;\n",
              "  }\n",
              "\n",
              "  @keyframes spin {\n",
              "    0% {\n",
              "      border-color: transparent;\n",
              "      border-bottom-color: var(--fill-color);\n",
              "      border-left-color: var(--fill-color);\n",
              "    }\n",
              "    20% {\n",
              "      border-color: transparent;\n",
              "      border-left-color: var(--fill-color);\n",
              "      border-top-color: var(--fill-color);\n",
              "    }\n",
              "    30% {\n",
              "      border-color: transparent;\n",
              "      border-left-color: var(--fill-color);\n",
              "      border-top-color: var(--fill-color);\n",
              "      border-right-color: var(--fill-color);\n",
              "    }\n",
              "    40% {\n",
              "      border-color: transparent;\n",
              "      border-right-color: var(--fill-color);\n",
              "      border-top-color: var(--fill-color);\n",
              "    }\n",
              "    60% {\n",
              "      border-color: transparent;\n",
              "      border-right-color: var(--fill-color);\n",
              "    }\n",
              "    80% {\n",
              "      border-color: transparent;\n",
              "      border-right-color: var(--fill-color);\n",
              "      border-bottom-color: var(--fill-color);\n",
              "    }\n",
              "    90% {\n",
              "      border-color: transparent;\n",
              "      border-bottom-color: var(--fill-color);\n",
              "    }\n",
              "  }\n",
              "</style>\n",
              "\n",
              "  <script>\n",
              "    async function quickchart(key) {\n",
              "      const quickchartButtonEl =\n",
              "        document.querySelector('#' + key + ' button');\n",
              "      quickchartButtonEl.disabled = true;  // To prevent multiple clicks.\n",
              "      quickchartButtonEl.classList.add('colab-df-spinner');\n",
              "      try {\n",
              "        const charts = await google.colab.kernel.invokeFunction(\n",
              "            'suggestCharts', [key], {});\n",
              "      } catch (error) {\n",
              "        console.error('Error during call to suggestCharts:', error);\n",
              "      }\n",
              "      quickchartButtonEl.classList.remove('colab-df-spinner');\n",
              "      quickchartButtonEl.classList.add('colab-df-quickchart-complete');\n",
              "    }\n",
              "    (() => {\n",
              "      let quickchartButtonEl =\n",
              "        document.querySelector('#df-84cad7d2-ed8e-451f-b324-bc6dea824b46 button');\n",
              "      quickchartButtonEl.style.display =\n",
              "        google.colab.kernel.accessAllowed ? 'block' : 'none';\n",
              "    })();\n",
              "  </script>\n",
              "</div>\n",
              "    </div>\n",
              "  </div>\n"
            ],
            "application/vnd.google.colaboratory.intrinsic+json": {
              "type": "dataframe",
              "variable_name": "df",
              "summary": "{\n  \"name\": \"df\",\n  \"rows\": 315,\n  \"fields\": [\n    {\n      \"column\": \"DATE\",\n      \"properties\": {\n        \"dtype\": \"object\",\n        \"num_unique_values\": 315,\n        \"samples\": [\n          \"2023.11.13\",\n          \"2023.03.17\",\n          \"2023.09.14\"\n        ],\n        \"semantic_type\": \"\",\n        \"description\": \"\"\n      }\n    },\n    {\n      \"column\": \"OPEN\",\n      \"properties\": {\n        \"dtype\": \"number\",\n        \"std\": 0.01506726849917683,\n        \"min\": 1.04667,\n        \"max\": 1.12335,\n        \"num_unique_values\": 299,\n        \"samples\": [\n          1.08894,\n          1.08227,\n          1.06777\n        ],\n        \"semantic_type\": \"\",\n        \"description\": \"\"\n      }\n    },\n    {\n      \"column\": \"HIGH\",\n      \"properties\": {\n        \"dtype\": \"number\",\n        \"std\": 0.015051125703141143,\n        \"min\": 1.04936,\n        \"max\": 1.12758,\n        \"num_unique_values\": 310,\n        \"samples\": [\n          1.09638,\n          1.08045,\n          1.09898\n        ],\n        \"semantic_type\": \"\",\n        \"description\": \"\"\n      }\n    },\n    {\n      \"column\": \"LOW\",\n      \"properties\": {\n        \"dtype\": \"number\",\n        \"std\": 0.014952886245169002,\n        \"min\": 1.04483,\n        \"max\": 1.1209,\n        \"num_unique_values\": 306,\n        \"samples\": [\n          1.05053,\n          1.07064,\n          1.0851\n        ],\n        \"semantic_type\": \"\",\n        \"description\": \"\"\n      }\n    },\n    {\n      \"column\": \"CLOSE\",\n      \"properties\": {\n        \"dtype\": \"number\",\n        \"std\": 0.015047639702649928,\n        \"min\": 1.04663,\n        \"max\": 1.12335,\n        \"num_unique_values\": 306,\n        \"samples\": [\n          1.05605,\n          1.07219,\n          1.08856\n        ],\n        \"semantic_type\": \"\",\n        \"description\": \"\"\n      }\n    },\n    {\n      \"column\": \"TICKVOL\",\n      \"properties\": {\n        \"dtype\": \"number\",\n        \"std\": 21862,\n        \"min\": 164,\n        \"max\": 178097,\n        \"num_unique_values\": 313,\n        \"samples\": [\n          72924,\n          123152,\n          77525\n        ],\n        \"semantic_type\": \"\",\n        \"description\": \"\"\n      }\n    },\n    {\n      \"column\": \"VOL\",\n      \"properties\": {\n        \"dtype\": \"number\",\n        \"std\": 0,\n        \"min\": 0,\n        \"max\": 0,\n        \"num_unique_values\": 1,\n        \"samples\": [\n          0\n        ],\n        \"semantic_type\": \"\",\n        \"description\": \"\"\n      }\n    },\n    {\n      \"column\": \"SPREAD\",\n      \"properties\": {\n        \"dtype\": \"number\",\n        \"std\": 1,\n        \"min\": 0,\n        \"max\": 17,\n        \"num_unique_values\": 5,\n        \"samples\": [\n          2\n        ],\n        \"semantic_type\": \"\",\n        \"description\": \"\"\n      }\n    }\n  ]\n}"
            }
          },
          "metadata": {},
          "execution_count": 16
        }
      ]
    },
    {
      "cell_type": "code",
      "source": [
        "date_time = pd.to_datetime(df.pop('DATE'), format='%Y.%m.%d')\n",
        "print(df.dtypes)"
      ],
      "metadata": {
        "colab": {
          "base_uri": "https://localhost:8080/"
        },
        "id": "Rmitz9IfvNDP",
        "outputId": "d8311c88-814f-4018-96ff-a5186da82d8f"
      },
      "execution_count": 17,
      "outputs": [
        {
          "output_type": "stream",
          "name": "stdout",
          "text": [
            "OPEN       float64\n",
            "HIGH       float64\n",
            "LOW        float64\n",
            "CLOSE      float64\n",
            "TICKVOL      int64\n",
            "VOL          int64\n",
            "SPREAD       int64\n",
            "dtype: object\n"
          ]
        }
      ]
    },
    {
      "cell_type": "markdown",
      "source": [
        "# in conclusion VOL and SPREAD are worthless and i will drop them"
      ],
      "metadata": {
        "id": "qUGBOnd5zdIX"
      }
    },
    {
      "cell_type": "code",
      "source": [
        "df = df.drop('VOL', axis=1)\n",
        "df = df.drop('SPREAD', axis=1)\n",
        "df.shape\n"
      ],
      "metadata": {
        "colab": {
          "base_uri": "https://localhost:8080/"
        },
        "id": "wqf0sxZ6zcpY",
        "outputId": "e9393b91-38bd-450b-9ed1-0e575cbbb343"
      },
      "execution_count": 18,
      "outputs": [
        {
          "output_type": "execute_result",
          "data": {
            "text/plain": [
              "(315, 5)"
            ]
          },
          "metadata": {},
          "execution_count": 18
        }
      ]
    },
    {
      "cell_type": "code",
      "source": [
        "df.describe().transpose()"
      ],
      "metadata": {
        "colab": {
          "base_uri": "https://localhost:8080/",
          "height": 206
        },
        "id": "RQH8Cc7K1Dos",
        "outputId": "fc3094eb-3050-4247-ad7a-358cc314a9fb"
      },
      "execution_count": 19,
      "outputs": [
        {
          "output_type": "execute_result",
          "data": {
            "text/plain": [
              "         count          mean           std        min           25%  \\\n",
              "OPEN     315.0      1.082466      0.015067    1.04667      1.071855   \n",
              "HIGH     315.0      1.086091      0.015051    1.04936      1.075260   \n",
              "LOW      315.0      1.079032      0.014953    1.04483      1.068920   \n",
              "CLOSE    315.0      1.082437      0.015048    1.04663      1.072030   \n",
              "TICKVOL  315.0  70586.565079  21862.528062  164.00000  58522.000000   \n",
              "\n",
              "                 50%           75%           max  \n",
              "OPEN         1.08431      1.093455       1.12335  \n",
              "HIGH         1.08765      1.096540       1.12758  \n",
              "LOW          1.08071      1.089695       1.12090  \n",
              "CLOSE        1.08436      1.093325       1.12335  \n",
              "TICKVOL  69973.00000  80589.500000  178097.00000  "
            ],
            "text/html": [
              "\n",
              "  <div id=\"df-02860da7-f229-4e63-9aae-6788b2003258\" class=\"colab-df-container\">\n",
              "    <div>\n",
              "<style scoped>\n",
              "    .dataframe tbody tr th:only-of-type {\n",
              "        vertical-align: middle;\n",
              "    }\n",
              "\n",
              "    .dataframe tbody tr th {\n",
              "        vertical-align: top;\n",
              "    }\n",
              "\n",
              "    .dataframe thead th {\n",
              "        text-align: right;\n",
              "    }\n",
              "</style>\n",
              "<table border=\"1\" class=\"dataframe\">\n",
              "  <thead>\n",
              "    <tr style=\"text-align: right;\">\n",
              "      <th></th>\n",
              "      <th>count</th>\n",
              "      <th>mean</th>\n",
              "      <th>std</th>\n",
              "      <th>min</th>\n",
              "      <th>25%</th>\n",
              "      <th>50%</th>\n",
              "      <th>75%</th>\n",
              "      <th>max</th>\n",
              "    </tr>\n",
              "  </thead>\n",
              "  <tbody>\n",
              "    <tr>\n",
              "      <th>OPEN</th>\n",
              "      <td>315.0</td>\n",
              "      <td>1.082466</td>\n",
              "      <td>0.015067</td>\n",
              "      <td>1.04667</td>\n",
              "      <td>1.071855</td>\n",
              "      <td>1.08431</td>\n",
              "      <td>1.093455</td>\n",
              "      <td>1.12335</td>\n",
              "    </tr>\n",
              "    <tr>\n",
              "      <th>HIGH</th>\n",
              "      <td>315.0</td>\n",
              "      <td>1.086091</td>\n",
              "      <td>0.015051</td>\n",
              "      <td>1.04936</td>\n",
              "      <td>1.075260</td>\n",
              "      <td>1.08765</td>\n",
              "      <td>1.096540</td>\n",
              "      <td>1.12758</td>\n",
              "    </tr>\n",
              "    <tr>\n",
              "      <th>LOW</th>\n",
              "      <td>315.0</td>\n",
              "      <td>1.079032</td>\n",
              "      <td>0.014953</td>\n",
              "      <td>1.04483</td>\n",
              "      <td>1.068920</td>\n",
              "      <td>1.08071</td>\n",
              "      <td>1.089695</td>\n",
              "      <td>1.12090</td>\n",
              "    </tr>\n",
              "    <tr>\n",
              "      <th>CLOSE</th>\n",
              "      <td>315.0</td>\n",
              "      <td>1.082437</td>\n",
              "      <td>0.015048</td>\n",
              "      <td>1.04663</td>\n",
              "      <td>1.072030</td>\n",
              "      <td>1.08436</td>\n",
              "      <td>1.093325</td>\n",
              "      <td>1.12335</td>\n",
              "    </tr>\n",
              "    <tr>\n",
              "      <th>TICKVOL</th>\n",
              "      <td>315.0</td>\n",
              "      <td>70586.565079</td>\n",
              "      <td>21862.528062</td>\n",
              "      <td>164.00000</td>\n",
              "      <td>58522.000000</td>\n",
              "      <td>69973.00000</td>\n",
              "      <td>80589.500000</td>\n",
              "      <td>178097.00000</td>\n",
              "    </tr>\n",
              "  </tbody>\n",
              "</table>\n",
              "</div>\n",
              "    <div class=\"colab-df-buttons\">\n",
              "\n",
              "  <div class=\"colab-df-container\">\n",
              "    <button class=\"colab-df-convert\" onclick=\"convertToInteractive('df-02860da7-f229-4e63-9aae-6788b2003258')\"\n",
              "            title=\"Convert this dataframe to an interactive table.\"\n",
              "            style=\"display:none;\">\n",
              "\n",
              "  <svg xmlns=\"http://www.w3.org/2000/svg\" height=\"24px\" viewBox=\"0 -960 960 960\">\n",
              "    <path d=\"M120-120v-720h720v720H120Zm60-500h600v-160H180v160Zm220 220h160v-160H400v160Zm0 220h160v-160H400v160ZM180-400h160v-160H180v160Zm440 0h160v-160H620v160ZM180-180h160v-160H180v160Zm440 0h160v-160H620v160Z\"/>\n",
              "  </svg>\n",
              "    </button>\n",
              "\n",
              "  <style>\n",
              "    .colab-df-container {\n",
              "      display:flex;\n",
              "      gap: 12px;\n",
              "    }\n",
              "\n",
              "    .colab-df-convert {\n",
              "      background-color: #E8F0FE;\n",
              "      border: none;\n",
              "      border-radius: 50%;\n",
              "      cursor: pointer;\n",
              "      display: none;\n",
              "      fill: #1967D2;\n",
              "      height: 32px;\n",
              "      padding: 0 0 0 0;\n",
              "      width: 32px;\n",
              "    }\n",
              "\n",
              "    .colab-df-convert:hover {\n",
              "      background-color: #E2EBFA;\n",
              "      box-shadow: 0px 1px 2px rgba(60, 64, 67, 0.3), 0px 1px 3px 1px rgba(60, 64, 67, 0.15);\n",
              "      fill: #174EA6;\n",
              "    }\n",
              "\n",
              "    .colab-df-buttons div {\n",
              "      margin-bottom: 4px;\n",
              "    }\n",
              "\n",
              "    [theme=dark] .colab-df-convert {\n",
              "      background-color: #3B4455;\n",
              "      fill: #D2E3FC;\n",
              "    }\n",
              "\n",
              "    [theme=dark] .colab-df-convert:hover {\n",
              "      background-color: #434B5C;\n",
              "      box-shadow: 0px 1px 3px 1px rgba(0, 0, 0, 0.15);\n",
              "      filter: drop-shadow(0px 1px 2px rgba(0, 0, 0, 0.3));\n",
              "      fill: #FFFFFF;\n",
              "    }\n",
              "  </style>\n",
              "\n",
              "    <script>\n",
              "      const buttonEl =\n",
              "        document.querySelector('#df-02860da7-f229-4e63-9aae-6788b2003258 button.colab-df-convert');\n",
              "      buttonEl.style.display =\n",
              "        google.colab.kernel.accessAllowed ? 'block' : 'none';\n",
              "\n",
              "      async function convertToInteractive(key) {\n",
              "        const element = document.querySelector('#df-02860da7-f229-4e63-9aae-6788b2003258');\n",
              "        const dataTable =\n",
              "          await google.colab.kernel.invokeFunction('convertToInteractive',\n",
              "                                                    [key], {});\n",
              "        if (!dataTable) return;\n",
              "\n",
              "        const docLinkHtml = 'Like what you see? Visit the ' +\n",
              "          '<a target=\"_blank\" href=https://colab.research.google.com/notebooks/data_table.ipynb>data table notebook</a>'\n",
              "          + ' to learn more about interactive tables.';\n",
              "        element.innerHTML = '';\n",
              "        dataTable['output_type'] = 'display_data';\n",
              "        await google.colab.output.renderOutput(dataTable, element);\n",
              "        const docLink = document.createElement('div');\n",
              "        docLink.innerHTML = docLinkHtml;\n",
              "        element.appendChild(docLink);\n",
              "      }\n",
              "    </script>\n",
              "  </div>\n",
              "\n",
              "\n",
              "<div id=\"df-88e25b9f-66ea-4754-8a7c-d5646793cbc5\">\n",
              "  <button class=\"colab-df-quickchart\" onclick=\"quickchart('df-88e25b9f-66ea-4754-8a7c-d5646793cbc5')\"\n",
              "            title=\"Suggest charts\"\n",
              "            style=\"display:none;\">\n",
              "\n",
              "<svg xmlns=\"http://www.w3.org/2000/svg\" height=\"24px\"viewBox=\"0 0 24 24\"\n",
              "     width=\"24px\">\n",
              "    <g>\n",
              "        <path d=\"M19 3H5c-1.1 0-2 .9-2 2v14c0 1.1.9 2 2 2h14c1.1 0 2-.9 2-2V5c0-1.1-.9-2-2-2zM9 17H7v-7h2v7zm4 0h-2V7h2v10zm4 0h-2v-4h2v4z\"/>\n",
              "    </g>\n",
              "</svg>\n",
              "  </button>\n",
              "\n",
              "<style>\n",
              "  .colab-df-quickchart {\n",
              "      --bg-color: #E8F0FE;\n",
              "      --fill-color: #1967D2;\n",
              "      --hover-bg-color: #E2EBFA;\n",
              "      --hover-fill-color: #174EA6;\n",
              "      --disabled-fill-color: #AAA;\n",
              "      --disabled-bg-color: #DDD;\n",
              "  }\n",
              "\n",
              "  [theme=dark] .colab-df-quickchart {\n",
              "      --bg-color: #3B4455;\n",
              "      --fill-color: #D2E3FC;\n",
              "      --hover-bg-color: #434B5C;\n",
              "      --hover-fill-color: #FFFFFF;\n",
              "      --disabled-bg-color: #3B4455;\n",
              "      --disabled-fill-color: #666;\n",
              "  }\n",
              "\n",
              "  .colab-df-quickchart {\n",
              "    background-color: var(--bg-color);\n",
              "    border: none;\n",
              "    border-radius: 50%;\n",
              "    cursor: pointer;\n",
              "    display: none;\n",
              "    fill: var(--fill-color);\n",
              "    height: 32px;\n",
              "    padding: 0;\n",
              "    width: 32px;\n",
              "  }\n",
              "\n",
              "  .colab-df-quickchart:hover {\n",
              "    background-color: var(--hover-bg-color);\n",
              "    box-shadow: 0 1px 2px rgba(60, 64, 67, 0.3), 0 1px 3px 1px rgba(60, 64, 67, 0.15);\n",
              "    fill: var(--button-hover-fill-color);\n",
              "  }\n",
              "\n",
              "  .colab-df-quickchart-complete:disabled,\n",
              "  .colab-df-quickchart-complete:disabled:hover {\n",
              "    background-color: var(--disabled-bg-color);\n",
              "    fill: var(--disabled-fill-color);\n",
              "    box-shadow: none;\n",
              "  }\n",
              "\n",
              "  .colab-df-spinner {\n",
              "    border: 2px solid var(--fill-color);\n",
              "    border-color: transparent;\n",
              "    border-bottom-color: var(--fill-color);\n",
              "    animation:\n",
              "      spin 1s steps(1) infinite;\n",
              "  }\n",
              "\n",
              "  @keyframes spin {\n",
              "    0% {\n",
              "      border-color: transparent;\n",
              "      border-bottom-color: var(--fill-color);\n",
              "      border-left-color: var(--fill-color);\n",
              "    }\n",
              "    20% {\n",
              "      border-color: transparent;\n",
              "      border-left-color: var(--fill-color);\n",
              "      border-top-color: var(--fill-color);\n",
              "    }\n",
              "    30% {\n",
              "      border-color: transparent;\n",
              "      border-left-color: var(--fill-color);\n",
              "      border-top-color: var(--fill-color);\n",
              "      border-right-color: var(--fill-color);\n",
              "    }\n",
              "    40% {\n",
              "      border-color: transparent;\n",
              "      border-right-color: var(--fill-color);\n",
              "      border-top-color: var(--fill-color);\n",
              "    }\n",
              "    60% {\n",
              "      border-color: transparent;\n",
              "      border-right-color: var(--fill-color);\n",
              "    }\n",
              "    80% {\n",
              "      border-color: transparent;\n",
              "      border-right-color: var(--fill-color);\n",
              "      border-bottom-color: var(--fill-color);\n",
              "    }\n",
              "    90% {\n",
              "      border-color: transparent;\n",
              "      border-bottom-color: var(--fill-color);\n",
              "    }\n",
              "  }\n",
              "</style>\n",
              "\n",
              "  <script>\n",
              "    async function quickchart(key) {\n",
              "      const quickchartButtonEl =\n",
              "        document.querySelector('#' + key + ' button');\n",
              "      quickchartButtonEl.disabled = true;  // To prevent multiple clicks.\n",
              "      quickchartButtonEl.classList.add('colab-df-spinner');\n",
              "      try {\n",
              "        const charts = await google.colab.kernel.invokeFunction(\n",
              "            'suggestCharts', [key], {});\n",
              "      } catch (error) {\n",
              "        console.error('Error during call to suggestCharts:', error);\n",
              "      }\n",
              "      quickchartButtonEl.classList.remove('colab-df-spinner');\n",
              "      quickchartButtonEl.classList.add('colab-df-quickchart-complete');\n",
              "    }\n",
              "    (() => {\n",
              "      let quickchartButtonEl =\n",
              "        document.querySelector('#df-88e25b9f-66ea-4754-8a7c-d5646793cbc5 button');\n",
              "      quickchartButtonEl.style.display =\n",
              "        google.colab.kernel.accessAllowed ? 'block' : 'none';\n",
              "    })();\n",
              "  </script>\n",
              "</div>\n",
              "    </div>\n",
              "  </div>\n"
            ],
            "application/vnd.google.colaboratory.intrinsic+json": {
              "type": "dataframe",
              "summary": "{\n  \"name\": \"df\",\n  \"rows\": 5,\n  \"fields\": [\n    {\n      \"column\": \"count\",\n      \"properties\": {\n        \"dtype\": \"number\",\n        \"std\": 0.0,\n        \"min\": 315.0,\n        \"max\": 315.0,\n        \"num_unique_values\": 1,\n        \"samples\": [\n          315.0\n        ],\n        \"semantic_type\": \"\",\n        \"description\": \"\"\n      }\n    },\n    {\n      \"column\": \"mean\",\n      \"properties\": {\n        \"dtype\": \"number\",\n        \"std\": 31566.787451553308,\n        \"min\": 1.0790320952380952,\n        \"max\": 70586.56507936509,\n        \"num_unique_values\": 5,\n        \"samples\": [\n          1.0860908571428571\n        ],\n        \"semantic_type\": \"\",\n        \"description\": \"\"\n      }\n    },\n    {\n      \"column\": \"std\",\n      \"properties\": {\n        \"dtype\": \"number\",\n        \"std\": 9777.213059735921,\n        \"min\": 0.014952886245169002,\n        \"max\": 21862.528061798268,\n        \"num_unique_values\": 5,\n        \"samples\": [\n          0.015051125703141143\n        ],\n        \"semantic_type\": \"\",\n        \"description\": \"\"\n      }\n    },\n    {\n      \"column\": \"min\",\n      \"properties\": {\n        \"dtype\": \"number\",\n        \"std\": 72.87485406517855,\n        \"min\": 1.04483,\n        \"max\": 164.0,\n        \"num_unique_values\": 5,\n        \"samples\": [\n          1.04936\n        ],\n        \"semantic_type\": \"\",\n        \"description\": \"\"\n      }\n    },\n    {\n      \"column\": \"25%\",\n      \"properties\": {\n        \"dtype\": \"number\",\n        \"std\": 26171.354615607037,\n        \"min\": 1.0689199999999999,\n        \"max\": 58522.0,\n        \"num_unique_values\": 5,\n        \"samples\": [\n          1.07526\n        ],\n        \"semantic_type\": \"\",\n        \"description\": \"\"\n      }\n    },\n    {\n      \"column\": \"50%\",\n      \"properties\": {\n        \"dtype\": \"number\",\n        \"std\": 31292.39202322363,\n        \"min\": 1.08071,\n        \"max\": 69973.0,\n        \"num_unique_values\": 5,\n        \"samples\": [\n          1.08765\n        ],\n        \"semantic_type\": \"\",\n        \"description\": \"\"\n      }\n    },\n    {\n      \"column\": \"75%\",\n      \"properties\": {\n        \"dtype\": \"number\",\n        \"std\": 36040.23113660361,\n        \"min\": 1.0896949999999999,\n        \"max\": 80589.5,\n        \"num_unique_values\": 5,\n        \"samples\": [\n          1.09654\n        ],\n        \"semantic_type\": \"\",\n        \"description\": \"\"\n      }\n    },\n    {\n      \"column\": \"max\",\n      \"properties\": {\n        \"dtype\": \"number\",\n        \"std\": 79646.8971413535,\n        \"min\": 1.1209,\n        \"max\": 178097.0,\n        \"num_unique_values\": 4,\n        \"samples\": [\n          1.12758\n        ],\n        \"semantic_type\": \"\",\n        \"description\": \"\"\n      }\n    }\n  ]\n}"
            }
          },
          "metadata": {},
          "execution_count": 19
        }
      ]
    },
    {
      "cell_type": "code",
      "source": [
        "import datetime\n",
        "timestamp_s = date_time.map(datetime.datetime.timestamp)"
      ],
      "metadata": {
        "id": "HiydJ7Cj5RK6"
      },
      "execution_count": 20,
      "outputs": []
    },
    {
      "cell_type": "markdown",
      "source": [
        "# split data"
      ],
      "metadata": {
        "id": "Z5K698sy532F"
      }
    },
    {
      "cell_type": "code",
      "source": [
        "column_indices = {name: i for i, name in enumerate(df.columns)}\n",
        "\n",
        "n = len(df)\n",
        "\n",
        "train_df = df[0:int(n*0.7)]\n",
        "val_df = df[int(n*0.7):int(n*0.9)]\n",
        "test_df = df[int(n*0.9):]\n",
        "\n",
        "num_features = df.shape[1]\n",
        "\n",
        "print(f'There are {num_features} features')"
      ],
      "metadata": {
        "colab": {
          "base_uri": "https://localhost:8080/"
        },
        "id": "dP64SoUO53YC",
        "outputId": "330f5bd2-b5c3-43de-ede3-c211528bc8b9"
      },
      "execution_count": 21,
      "outputs": [
        {
          "output_type": "stream",
          "name": "stdout",
          "text": [
            "There are 5 features\n"
          ]
        }
      ]
    },
    {
      "cell_type": "markdown",
      "source": [
        "Normlize Data"
      ],
      "metadata": {
        "id": "wZNPCZfN6Isn"
      }
    },
    {
      "cell_type": "code",
      "source": [
        "train_mean = train_df.mean()\n",
        "train_std = train_df.std()\n",
        "\n",
        "train_df = (train_df - train_mean) / train_std\n",
        "val_df = (val_df - train_mean) / train_std\n",
        "test_df = (test_df - train_mean) / train_std"
      ],
      "metadata": {
        "id": "3KdKrTc16MJB"
      },
      "execution_count": 22,
      "outputs": []
    },
    {
      "cell_type": "code",
      "source": [
        "df_std = (df - train_mean) / train_std\n",
        "df_std = df_std.melt(var_name='Column', value_name='Normalized')\n",
        "\n",
        "ax = sns.violinplot(x='Column', y='Normalized', data=df_std)\n",
        "_ = ax.set_xticklabels(df.keys(), rotation=90)"
      ],
      "metadata": {
        "colab": {
          "base_uri": "https://localhost:8080/",
          "height": 702
        },
        "id": "GaL6TH-Z6VSB",
        "outputId": "044ef839-d703-4a52-ccb8-293df86b1365"
      },
      "execution_count": 23,
      "outputs": [
        {
          "output_type": "display_data",
          "data": {
            "text/plain": [
              "<Figure size 1000x750 with 1 Axes>"
            ],
            "image/png": "[encoded data removed]"
          },
          "metadata": {}
        }
      ]
    },
    {
      "cell_type": "code",
      "source": [
        "class WindowGenerator():\n",
        "    def __init__(self, input_width, label_width, shift,\n",
        "                 train_df=train_df, val_df=val_df, test_df=test_df,\n",
        "                 label_columns=None):\n",
        "\n",
        "        self.train_df = train_df\n",
        "        self.val_df = val_df\n",
        "        self.test_df = test_df\n",
        "\n",
        "        self.label_columns = label_columns\n",
        "        if label_columns is not None:\n",
        "            self.label_columns_indices = {name: i for i, name in enumerate(label_columns)}\n",
        "        self.column_indices = {name: i for i, name in enumerate(train_df.columns)}\n",
        "\n",
        "        self.input_width = input_width\n",
        "        self.label_width = label_width\n",
        "        self.shift = shift\n",
        "\n",
        "        self.total_window_size = input_width + shift\n",
        "\n",
        "        self.input_slice = slice(0, input_width)\n",
        "        self.input_indices = np.arange(self.total_window_size)[self.input_slice]\n",
        "\n",
        "        self.label_start = self.total_window_size - self.label_width\n",
        "        self.labels_slice = slice(self.label_start, None)\n",
        "        self.label_indices = np.arange(self.total_window_size)[self.labels_slice]\n",
        "\n",
        "    def __repr__(self):\n",
        "        return '\\n'.join([\n",
        "            f'Total window size: {self.total_window_size}',\n",
        "            f'Input indices: {self.input_indices}',\n",
        "            f'Label indices: {self.label_indices}',\n",
        "            f'Label column name(s): {self.label_columns}'\n",
        "        ])\n",
        "\n",
        "    def split_window(self, features):\n",
        "        inputs = features[:, self.input_slice, :]\n",
        "        labels = features[:, self.labels_slice, :]\n",
        "        if self.label_columns is not None:\n",
        "            labels = tf.stack(\n",
        "                [labels[:,:,self.column_indices[name]] for name in self.label_columns],\n",
        "                axis=-1\n",
        "            )\n",
        "        inputs.set_shape([None, self.input_width, None])\n",
        "        labels.set_shape([None, self.label_width, None])\n",
        "\n",
        "        return inputs, labels\n",
        "\n",
        "    def plot(self, model=None, plot_col='Appliances', max_subplots=3):\n",
        "        inputs, labels = self.example\n",
        "\n",
        "        plt.figure(figsize=(12, 8))\n",
        "        plot_col_index = self.column_indices[plot_col]\n",
        "        max_n = min(max_subplots, len(inputs))\n",
        "\n",
        "        for n in range(max_n):\n",
        "            plt.subplot(3, 1, n+1)\n",
        "            plt.ylabel(f'{plot_col} [normed]')\n",
        "            plt.plot(self.input_indices, inputs[n, :, plot_col_index],\n",
        "                     label='Inputs', marker='.', zorder=-10)\n",
        "\n",
        "            if self.label_columns:\n",
        "              label_col_index = self.label_columns_indices.get(plot_col, None)\n",
        "            else:\n",
        "              label_col_index = plot_col_index\n",
        "\n",
        "            if label_col_index is None:\n",
        "              continue\n",
        "\n",
        "            plt.scatter(self.label_indices, labels[n, :, label_col_index],\n",
        "                        edgecolors='k', label='Labels', c='#2ca02c', s=64)\n",
        "            if model is not None:\n",
        "              predictions = model(inputs)\n",
        "              plt.scatter(self.label_indices, predictions[n, :, label_col_index],\n",
        "                          marker='X', edgecolors='k', label='Predictions',\n",
        "                          c='#ff7f0e', s=64)\n",
        "\n",
        "            if n == 0:\n",
        "              plt.legend()\n",
        "\n",
        "        plt.xlabel('Time (h)')\n",
        "\n",
        "    def make_dataset(self, data):\n",
        "        data = np.array(data, dtype=np.float32)\n",
        "        ds = tf.keras.preprocessing.timeseries_dataset_from_array(\n",
        "            data=data,\n",
        "            targets=None,\n",
        "            sequence_length=self.total_window_size,\n",
        "            sequence_stride=1,\n",
        "            shuffle=True,\n",
        "            batch_size=32\n",
        "        )\n",
        "\n",
        "        ds = ds.map(self.split_window)\n",
        "        return ds\n",
        "\n",
        "    @property\n",
        "    def train(self):\n",
        "        return self.make_dataset(self.train_df)\n",
        "\n",
        "    @property\n",
        "    def val(self):\n",
        "        return self.make_dataset(self.val_df)\n",
        "\n",
        "    @property\n",
        "    def test(self):\n",
        "        return self.make_dataset(self.test_df)\n",
        "\n",
        "    @property\n",
        "    def example(self):\n",
        "        result = getattr(self, '_example', None)\n",
        "        if result is None:\n",
        "            result = next(iter(self.train))\n",
        "            self._example = result\n",
        "        return result\n",
        "MAX_EPOCHS = 50\n",
        "\n",
        "def compile_and_fit(model, window, patience=3):\n",
        "    early_stopping = EarlyStopping(monitor='val_loss',\n",
        "                                   patience=patience,\n",
        "                                   mode='min')\n",
        "\n",
        "    model.compile(loss=MeanSquaredError(),\n",
        "                  optimizer=Adam(),\n",
        "                  metrics=[MeanAbsoluteError()])\n",
        "\n",
        "    history = model.fit(window.train,\n",
        "                       epochs=MAX_EPOCHS,\n",
        "                       validation_data=window.val,\n",
        "                       callbacks=[early_stopping])\n",
        "\n",
        "    return history"
      ],
      "metadata": {
        "id": "Xu092v0U19hD"
      },
      "execution_count": 24,
      "outputs": []
    },
    {
      "cell_type": "code",
      "source": [
        "single_step_window = WindowGenerator(\n",
        "    input_width=1,\n",
        "    label_width=1,\n",
        "    shift=1\n",
        ")\n",
        "\n",
        "wide_window = WindowGenerator(\n",
        "    input_width=24,\n",
        "    label_width=24,\n",
        "    shift=1\n",
        ")\n",
        "\n",
        "CONV_WIDTH = 3\n",
        "\n",
        "conv_window = WindowGenerator(\n",
        "    input_width=CONV_WIDTH,\n",
        "    label_width=1,\n",
        "    shift=1\n",
        ")\n",
        "\n",
        "for example_inputs, example_labels in wide_window.train.take(1):\n",
        "    print(f'Inputs shape (batch, time, features): {example_inputs.shape}')\n",
        "    print(f'Labels shape (batch, time, features): {example_labels.shape}')"
      ],
      "metadata": {
        "colab": {
          "base_uri": "https://localhost:8080/"
        },
        "id": "cJjkeiil2mtn",
        "outputId": "019e7df9-151b-43e0-ebb6-231a315a25fc"
      },
      "execution_count": 25,
      "outputs": [
        {
          "output_type": "stream",
          "name": "stdout",
          "text": [
            "Inputs shape (batch, time, features): (32, 24, 5)\n",
            "Labels shape (batch, time, features): (32, 24, 5)\n"
          ]
        }
      ]
    },
    {
      "cell_type": "markdown",
      "source": [
        "# LSTM"
      ],
      "metadata": {
        "id": "CkhAIqen3jcB"
      }
    },
    {
      "cell_type": "code",
      "source": [
        "dense = Sequential([\n",
        "    Dense(units=64, activation='relu'),\n",
        "    Dense(units=64, activation='relu'),\n",
        "    Dense(units=num_features)\n",
        "])\n",
        "\n",
        "history = compile_and_fit(dense, single_step_window)\n",
        "val_performance = {}\n",
        "performance = {}\n",
        "\n",
        "val_performance['dense'] = dense.evaluate(single_step_window.val)\n",
        "performance['dense'] = dense.evaluate(single_step_window.test, verbose=0)"
      ],
      "metadata": {
        "colab": {
          "base_uri": "https://localhost:8080/"
        },
        "id": "vjW934jL2tW2",
        "outputId": "1ed49580-2743-46e0-bb63-4858817a4b64"
      },
      "execution_count": 30,
      "outputs": [
        {
          "output_type": "stream",
          "name": "stdout",
          "text": [
            "Epoch 1/50\n",
            "7/7 [==============================] - 2s 53ms/step - loss: 0.9396 - mean_absolute_error: 0.7670 - val_loss: 0.5583 - val_mean_absolute_error: 0.5591\n",
            "Epoch 2/50\n",
            "7/7 [==============================] - 0s 21ms/step - loss: 0.7272 - mean_absolute_error: 0.6610 - val_loss: 0.4602 - val_mean_absolute_error: 0.4997\n",
            "Epoch 3/50\n",
            "7/7 [==============================] - 0s 22ms/step - loss: 0.5564 - mean_absolute_error: 0.5623 - val_loss: 0.3939 - val_mean_absolute_error: 0.4557\n",
            "Epoch 4/50\n",
            "7/7 [==============================] - 0s 16ms/step - loss: 0.4363 - mean_absolute_error: 0.4765 - val_loss: 0.3306 - val_mean_absolute_error: 0.4089\n",
            "Epoch 5/50\n",
            "7/7 [==============================] - 0s 20ms/step - loss: 0.3443 - mean_absolute_error: 0.3977 - val_loss: 0.2664 - val_mean_absolute_error: 0.3524\n",
            "Epoch 6/50\n",
            "7/7 [==============================] - 0s 17ms/step - loss: 0.2729 - mean_absolute_error: 0.3361 - val_loss: 0.2156 - val_mean_absolute_error: 0.3023\n",
            "Epoch 7/50\n",
            "7/7 [==============================] - 0s 17ms/step - loss: 0.2319 - mean_absolute_error: 0.2971 - val_loss: 0.1789 - val_mean_absolute_error: 0.2665\n",
            "Epoch 8/50\n",
            "7/7 [==============================] - 0s 15ms/step - loss: 0.2105 - mean_absolute_error: 0.2755 - val_loss: 0.1603 - val_mean_absolute_error: 0.2496\n",
            "Epoch 9/50\n",
            "7/7 [==============================] - 0s 10ms/step - loss: 0.2048 - mean_absolute_error: 0.2715 - val_loss: 0.1546 - val_mean_absolute_error: 0.2443\n",
            "Epoch 10/50\n",
            "7/7 [==============================] - 0s 10ms/step - loss: 0.2001 - mean_absolute_error: 0.2683 - val_loss: 0.1529 - val_mean_absolute_error: 0.2415\n",
            "Epoch 11/50\n",
            "7/7 [==============================] - 0s 10ms/step - loss: 0.1954 - mean_absolute_error: 0.2628 - val_loss: 0.1544 - val_mean_absolute_error: 0.2425\n",
            "Epoch 12/50\n",
            "7/7 [==============================] - 0s 17ms/step - loss: 0.1911 - mean_absolute_error: 0.2585 - val_loss: 0.1561 - val_mean_absolute_error: 0.2449\n",
            "Epoch 13/50\n",
            "7/7 [==============================] - 0s 10ms/step - loss: 0.1885 - mean_absolute_error: 0.2558 - val_loss: 0.1558 - val_mean_absolute_error: 0.2450\n",
            "2/2 [==============================] - 0s 8ms/step - loss: 0.1558 - mean_absolute_error: 0.2450\n"
          ]
        }
      ]
    },
    {
      "cell_type": "markdown",
      "source": [
        "# CNN + LSTM"
      ],
      "metadata": {
        "id": "1Im4rme54H_e"
      }
    },
    {
      "cell_type": "code",
      "source": [
        "cnn_lstm_model = Sequential([\n",
        "    Conv1D(filters=64,\n",
        "           kernel_size=(CONV_WIDTH,),\n",
        "           activation='relu'),\n",
        "    LSTM(64, return_sequences=True),\n",
        "    LSTM(64, return_sequences=True),\n",
        "    Dense(1)\n",
        "])\n",
        "\n",
        "history = compile_and_fit(cnn_lstm_model, conv_window)\n",
        "\n",
        "val_performance['CNN+LSTM'] = cnn_lstm_model.evaluate(conv_window.val)\n",
        "performance['CNN+LSTM'] = cnn_lstm_model.evaluate(conv_window.test, verbose=0)"
      ],
      "metadata": {
        "colab": {
          "base_uri": "https://localhost:8080/"
        },
        "id": "r3r9L4m14Lrj",
        "outputId": "5cd83d95-af5d-43ef-85ae-3708374b3130"
      },
      "execution_count": 31,
      "outputs": [
        {
          "output_type": "stream",
          "name": "stdout",
          "text": [
            "Epoch 1/50\n",
            "7/7 [==============================] - 7s 197ms/step - loss: 0.9804 - mean_absolute_error: 0.8151 - val_loss: 0.4851 - val_mean_absolute_error: 0.5346\n",
            "Epoch 2/50\n",
            "7/7 [==============================] - 0s 12ms/step - loss: 0.9012 - mean_absolute_error: 0.7812 - val_loss: 0.4425 - val_mean_absolute_error: 0.5060\n",
            "Epoch 3/50\n",
            "7/7 [==============================] - 0s 19ms/step - loss: 0.7575 - mean_absolute_error: 0.7099 - val_loss: 0.3537 - val_mean_absolute_error: 0.4409\n",
            "Epoch 4/50\n",
            "7/7 [==============================] - 0s 12ms/step - loss: 0.5772 - mean_absolute_error: 0.5736 - val_loss: 0.2452 - val_mean_absolute_error: 0.3364\n",
            "Epoch 5/50\n",
            "7/7 [==============================] - 0s 12ms/step - loss: 0.5288 - mean_absolute_error: 0.4584 - val_loss: 0.2277 - val_mean_absolute_error: 0.3085\n",
            "Epoch 6/50\n",
            "7/7 [==============================] - 0s 14ms/step - loss: 0.5231 - mean_absolute_error: 0.4533 - val_loss: 0.2286 - val_mean_absolute_error: 0.3169\n",
            "Epoch 7/50\n",
            "7/7 [==============================] - 0s 12ms/step - loss: 0.5006 - mean_absolute_error: 0.4786 - val_loss: 0.2424 - val_mean_absolute_error: 0.3344\n",
            "Epoch 8/50\n",
            "7/7 [==============================] - 0s 12ms/step - loss: 0.4991 - mean_absolute_error: 0.4878 - val_loss: 0.2357 - val_mean_absolute_error: 0.3269\n",
            "2/2 [==============================] - 0s 9ms/step - loss: 0.2357 - mean_absolute_error: 0.3269\n"
          ]
        }
      ]
    },
    {
      "cell_type": "markdown",
      "source": [
        "Resnet"
      ],
      "metadata": {
        "id": "XUq2otup4YJd"
      }
    },
    {
      "cell_type": "code",
      "source": [
        "class ResidualWrapper(Model):\n",
        "    def __init__(self, model):\n",
        "        super().__init__()\n",
        "        self.model = model\n",
        "\n",
        "    def call(self, inputs, *args, **kwargs):\n",
        "        delta = self.model(inputs, *args, **kwargs)\n",
        "\n",
        "        return inputs + delta"
      ],
      "metadata": {
        "id": "TIbJRkYw4XaQ"
      },
      "execution_count": 33,
      "outputs": []
    },
    {
      "cell_type": "code",
      "source": [
        "res_lstm = ResidualWrapper(\n",
        "    Sequential([\n",
        "        LSTM(32, return_sequences=True),\n",
        "        Dense(\n",
        "            num_features,\n",
        "            kernel_initializer=tf.initializers.zeros    # Initialize predictions to 0\n",
        "        )\n",
        "    ])\n",
        ")\n",
        "\n",
        "history = compile_and_fit(res_lstm, wide_window)\n",
        "\n",
        "val_performance['res_lstm'] = res_lstm.evaluate(wide_window.val)\n",
        "performance['res_lstm'] = res_lstm.evaluate(wide_window.test, verbose=0)"
      ],
      "metadata": {
        "colab": {
          "base_uri": "https://localhost:8080/"
        },
        "id": "ke5y8mvc4bbb",
        "outputId": "cb89ded5-707d-4bc4-f72b-d0d86ab2415b"
      },
      "execution_count": 34,
      "outputs": [
        {
          "output_type": "stream",
          "name": "stdout",
          "text": [
            "Epoch 1/50\n",
            "7/7 [==============================] - 4s 82ms/step - loss: 0.3202 - mean_absolute_error: 0.2944 - val_loss: 0.2091 - val_mean_absolute_error: 0.2685\n",
            "Epoch 2/50\n",
            "7/7 [==============================] - 0s 11ms/step - loss: 0.3182 - mean_absolute_error: 0.2930 - val_loss: 0.2080 - val_mean_absolute_error: 0.2676\n",
            "Epoch 3/50\n",
            "7/7 [==============================] - 0s 13ms/step - loss: 0.3158 - mean_absolute_error: 0.2923 - val_loss: 0.2071 - val_mean_absolute_error: 0.2671\n",
            "Epoch 4/50\n",
            "7/7 [==============================] - 0s 11ms/step - loss: 0.3129 - mean_absolute_error: 0.2915 - val_loss: 0.2064 - val_mean_absolute_error: 0.2666\n",
            "Epoch 5/50\n",
            "7/7 [==============================] - 0s 11ms/step - loss: 0.3097 - mean_absolute_error: 0.2907 - val_loss: 0.2055 - val_mean_absolute_error: 0.2662\n",
            "Epoch 6/50\n",
            "7/7 [==============================] - 0s 11ms/step - loss: 0.3056 - mean_absolute_error: 0.2898 - val_loss: 0.2041 - val_mean_absolute_error: 0.2654\n",
            "Epoch 7/50\n",
            "7/7 [==============================] - 0s 11ms/step - loss: 0.3006 - mean_absolute_error: 0.2882 - val_loss: 0.2025 - val_mean_absolute_error: 0.2645\n",
            "Epoch 8/50\n",
            "7/7 [==============================] - 0s 11ms/step - loss: 0.2954 - mean_absolute_error: 0.2867 - val_loss: 0.2011 - val_mean_absolute_error: 0.2640\n",
            "Epoch 9/50\n",
            "7/7 [==============================] - 0s 11ms/step - loss: 0.2890 - mean_absolute_error: 0.2853 - val_loss: 0.1992 - val_mean_absolute_error: 0.2629\n",
            "Epoch 10/50\n",
            "7/7 [==============================] - 0s 11ms/step - loss: 0.2818 - mean_absolute_error: 0.2832 - val_loss: 0.1974 - val_mean_absolute_error: 0.2615\n",
            "Epoch 11/50\n",
            "7/7 [==============================] - 0s 13ms/step - loss: 0.2737 - mean_absolute_error: 0.2816 - val_loss: 0.1957 - val_mean_absolute_error: 0.2602\n",
            "Epoch 12/50\n",
            "7/7 [==============================] - 0s 11ms/step - loss: 0.2647 - mean_absolute_error: 0.2789 - val_loss: 0.1942 - val_mean_absolute_error: 0.2583\n",
            "Epoch 13/50\n",
            "7/7 [==============================] - 0s 11ms/step - loss: 0.2561 - mean_absolute_error: 0.2765 - val_loss: 0.1927 - val_mean_absolute_error: 0.2567\n",
            "Epoch 14/50\n",
            "7/7 [==============================] - 0s 11ms/step - loss: 0.2476 - mean_absolute_error: 0.2743 - val_loss: 0.1917 - val_mean_absolute_error: 0.2559\n",
            "Epoch 15/50\n",
            "7/7 [==============================] - 0s 11ms/step - loss: 0.2380 - mean_absolute_error: 0.2714 - val_loss: 0.1908 - val_mean_absolute_error: 0.2548\n",
            "Epoch 16/50\n",
            "7/7 [==============================] - 0s 12ms/step - loss: 0.2298 - mean_absolute_error: 0.2690 - val_loss: 0.1904 - val_mean_absolute_error: 0.2550\n",
            "Epoch 17/50\n",
            "7/7 [==============================] - 0s 34ms/step - loss: 0.2210 - mean_absolute_error: 0.2666 - val_loss: 0.1910 - val_mean_absolute_error: 0.2553\n",
            "Epoch 18/50\n",
            "7/7 [==============================] - 0s 22ms/step - loss: 0.2139 - mean_absolute_error: 0.2644 - val_loss: 0.1905 - val_mean_absolute_error: 0.2553\n",
            "Epoch 19/50\n",
            "7/7 [==============================] - 0s 25ms/step - loss: 0.2075 - mean_absolute_error: 0.2627 - val_loss: 0.1923 - val_mean_absolute_error: 0.2575\n",
            "2/2 [==============================] - 0s 8ms/step - loss: 0.1923 - mean_absolute_error: 0.2575\n"
          ]
        }
      ]
    },
    {
      "cell_type": "code",
      "source": [
        "for name, value in performance.items():\n",
        "    print(f'{name:12s}: {value[1]:0.4f}')"
      ],
      "metadata": {
        "colab": {
          "base_uri": "https://localhost:8080/"
        },
        "id": "gG-3ccaq4uj4",
        "outputId": "6a4b932d-5591-41c5-ed71-407affc90093"
      },
      "execution_count": 35,
      "outputs": [
        {
          "output_type": "stream",
          "name": "stdout",
          "text": [
            "dense       : 0.2843\n",
            "CNN+LSTM    : 0.3485\n",
            "res_lstm    : 0.2820\n"
          ]
        }
      ]
    }
  ]
}